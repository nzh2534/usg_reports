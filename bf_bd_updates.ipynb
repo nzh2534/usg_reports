{
 "cells": [
  {
   "cell_type": "code",
   "execution_count": 1,
   "metadata": {},
   "outputs": [],
   "source": [
    "import pandas as pd\n",
    "import requests\n",
    "from datetime import timedelta, datetime\n",
    "from io import StringIO\n",
    "from jinja2 import Environment, FileSystemLoader"
   ]
  },
  {
   "cell_type": "code",
   "execution_count": 2,
   "metadata": {},
   "outputs": [],
   "source": [
    "N_DAYS_AGO = 7\n",
    "today = datetime.now()    \n",
    "n_days_ago = today - timedelta(days=N_DAYS_AGO)\n",
    "today = today.strftime(\"%Y-%m-%d\")\n",
    "prior = n_days_ago.strftime(\"%Y-%m-%d\")"
   ]
  },
  {
   "cell_type": "code",
   "execution_count": 3,
   "metadata": {},
   "outputs": [],
   "source": [
    "df_old = pd.read_csv(f\"./forecast_data/usaid-business-forecast-{prior}.csv\")"
   ]
  },
  {
   "cell_type": "code",
   "execution_count": 4,
   "metadata": {},
   "outputs": [],
   "source": [
    "with requests.Session() as s:\n",
    "    download = s.get('https://www.usaid.gov/business-forecast/export/csv?page&_format=csv')\n",
    "    decoded = download.content.decode('utf-8')\n",
    "    df_new = pd.read_csv(StringIO(decoded), sep=',')"
   ]
  },
  {
   "cell_type": "code",
   "execution_count": 5,
   "metadata": {},
   "outputs": [],
   "source": [
    "df_new.to_csv(f\"./forecast_data/usaid-business-forecast-{today}.csv\")"
   ]
  },
  {
   "cell_type": "code",
   "execution_count": 6,
   "metadata": {},
   "outputs": [],
   "source": [
    "def fh_only (df):\n",
    "    new_df = df[(df[\"Operating Unit\"].isin([\n",
    "        'Bangladesh',\n",
    "        'Bolivia',\n",
    "        'Burundi',\n",
    "        'Cambodia',\n",
    "        'Democratic Republic of the Congo',\n",
    "        'Dominican Republic',\n",
    "        'Ethiopia',\n",
    "        'Guatemala',\n",
    "        'Haiti',\n",
    "        'Indonesia',\n",
    "        'Kenya',\n",
    "        'Mozambique',\n",
    "        'Nicaragua',\n",
    "        'Peru',\n",
    "        'Philippines',\n",
    "        'Rwanda',\n",
    "        'South Sudan',\n",
    "        'Uganda',\n",
    "        'Bureau for Conflict Prevention and Stabilization (CPS)',\n",
    "        \"Regional Development Mission for Asia\",\n",
    "        \"Bureau for Humanitarian Assistance (BHA)\",\n",
    "        \"Innovation, Technology, and Research Hub (DDI/ITR)\",\n",
    "        \"Private-Sector Engagement Hub (DDI/PSE)\",\n",
    "        \"Bureau for Resilience and Food Security (RFS)\",\n",
    "        \"Local, Faith, and Transformative Partnerships Hub (DDI/LFT)\",\n",
    "        \"Center for Environment, Energy, and Infrastructure (DDI/EEI)\",\n",
    "        \"Center for Democracy, Human Rights, and Governance (DDI/DRG)\",\n",
    "        \"Office of Population & Reproductive Health (GH/PRH)\",\n",
    "        \"Office of Maternal and Child Health and Nutrition (GH/MCHN)\",\n",
    "        \"Gender Equality and Women's Empowerment Hub (DDI/GEWE)\",\n",
    "        \"Center for Accelerating Innovation and Impact (GH/CAII)\",\n",
    "        \"Inclusive Development Hub (DDI/ID)\",\n",
    "        \"Office of Acquisition and Assistance (M/OAA)\"\n",
    "    ]))]\n",
    "    return new_df"
   ]
  },
  {
   "cell_type": "code",
   "execution_count": 7,
   "metadata": {},
   "outputs": [],
   "source": [
    "df_old = fh_only(df_old)\n",
    "df_new = fh_only(df_new)"
   ]
  },
  {
   "cell_type": "code",
   "execution_count": 8,
   "metadata": {},
   "outputs": [],
   "source": [
    "identifying_column = 'A&A Plan Id'"
   ]
  },
  {
   "cell_type": "code",
   "execution_count": 9,
   "metadata": {},
   "outputs": [],
   "source": [
    "old_list = df_old[identifying_column].values.tolist()\n",
    "new_list = df_new[identifying_column].values.tolist()"
   ]
  },
  {
   "cell_type": "code",
   "execution_count": 10,
   "metadata": {},
   "outputs": [],
   "source": [
    "removed = list(set(old_list) - set(new_list))\n",
    "added = list(set(new_list) - set(old_list))"
   ]
  },
  {
   "cell_type": "code",
   "execution_count": 11,
   "metadata": {},
   "outputs": [],
   "source": [
    "removed_df = df_old[df_old[identifying_column].isin(removed)]\n",
    "df_old_final = df_old[~df_old[identifying_column].isin(removed)]\n",
    "\n",
    "\n",
    "added_df = df_new[df_new[identifying_column].isin(added)]\n",
    "df_new_final = df_new[~df_new[identifying_column].isin(added)]\n",
    "\n",
    "\n",
    "df_new_final = df_new_final.sort_values(by=[identifying_column])\n",
    "df_old_final = df_old_final.sort_values(by=[identifying_column])\n",
    "\n",
    "\n",
    "df_new_final = df_new_final.reset_index(drop=True)\n",
    "df_old_final = df_old_final.reset_index(drop=True)\n",
    "\n",
    "comparison_df = df_new_final.compare(df_old_final)"
   ]
  },
  {
   "cell_type": "code",
   "execution_count": 12,
   "metadata": {},
   "outputs": [],
   "source": [
    "iteration_keys = []\n",
    "for i in comparison_df.index:\n",
    "    iteration_keys.append(\n",
    "        {\n",
    "            'title': df_new_final.iloc[i]['Award Title'],\n",
    "            'url': df_new_final.iloc[i]['URL'],\n",
    "            'changes' : {},\n",
    "            'ou': df_new_final.iloc[i]['Operating Unit']\n",
    "        }\n",
    "    )"
   ]
  },
  {
   "cell_type": "code",
   "execution_count": 13,
   "metadata": {},
   "outputs": [],
   "source": [
    "comparison_df = comparison_df.reset_index(drop=True)"
   ]
  },
  {
   "cell_type": "code",
   "execution_count": 14,
   "metadata": {},
   "outputs": [],
   "source": [
    "index = 0\n",
    "while index < len(comparison_df):\n",
    "    for i, v in zip(comparison_df.iloc[index].index, comparison_df.iloc[index]):\n",
    "        if pd.isnull(comparison_df.iloc[index][i[0]]['self']) and pd.isnull(comparison_df.iloc[index][i[0]]['other']):\n",
    "            continue\n",
    "        else:\n",
    "            if i[1] == 'self':\n",
    "                iteration_keys[index]['changes'][i[0]] = v\n",
    "            else:\n",
    "                iteration_keys[index]['changes'][i[0]] = [v , iteration_keys[index]['changes'][i[0]]]\n",
    "    index += 1"
   ]
  },
  {
   "cell_type": "code",
   "execution_count": 15,
   "metadata": {},
   "outputs": [],
   "source": [
    "environment = Environment(loader=FileSystemLoader(\"./\"))\n",
    "template = environment.get_template(\"jinja_template.html\")"
   ]
  },
  {
   "cell_type": "code",
   "execution_count": 16,
   "metadata": {},
   "outputs": [],
   "source": [
    "def create_objs(df):\n",
    "    titles = list(df['Award Title'])\n",
    "    urls = list(df['URL'])\n",
    "    ou = list(df['Operating Unit'])\n",
    "\n",
    "    base_list = []\n",
    "\n",
    "    index = 0\n",
    "    while index < len(titles):\n",
    "        base_list.append(\n",
    "            {\n",
    "                'title': titles[index],\n",
    "                'url': urls[index],\n",
    "                'ou': ou[index]\n",
    "            }\n",
    "        )\n",
    "\n",
    "        index += 1\n",
    "\n",
    "    return base_list"
   ]
  },
  {
   "cell_type": "code",
   "execution_count": 17,
   "metadata": {},
   "outputs": [],
   "source": [
    "content = template.render(\n",
    "        removed=create_objs(removed_df),\n",
    "        added=create_objs(added_df),\n",
    "        changed = iteration_keys\n",
    "    )\n",
    "\n",
    "with open(f\"usaid_bf_weekly_report_{datetime.now().strftime('%Y%m%d')}.html\", mode=\"w\") as message:\n",
    "    message.write(content)"
   ]
  }
 ],
 "metadata": {
  "kernelspec": {
   "display_name": "work_env",
   "language": "python",
   "name": "python3"
  },
  "language_info": {
   "codemirror_mode": {
    "name": "ipython",
    "version": 3
   },
   "file_extension": ".py",
   "mimetype": "text/x-python",
   "name": "python",
   "nbconvert_exporter": "python",
   "pygments_lexer": "ipython3",
   "version": "3.9.7"
  }
 },
 "nbformat": 4,
 "nbformat_minor": 2
}
